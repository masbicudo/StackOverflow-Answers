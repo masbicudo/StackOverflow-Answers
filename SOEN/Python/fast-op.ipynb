{
 "cells": [
  {
   "cell_type": "code",
   "execution_count": 4,
   "metadata": {},
   "outputs": [
    {
     "name": "stdout",
     "output_type": "stream",
     "text": [
      "      nums     b\n",
      "0     20.0  20.0\n",
      "1     22.0  22.0\n",
      "2     30.0  30.0\n",
      "3     29.1  29.1\n",
      "4     20.0  20.0\n",
      "...    ...   ...\n",
      "5115  20.0  20.0\n",
      "5116  22.0  22.0\n",
      "5117  30.0  30.0\n",
      "5118  29.1  29.1\n",
      "5119  20.0  20.0\n",
      "\n",
      "[5120 rows x 2 columns]\n"
     ]
    }
   ],
   "source": [
    "#    nums   b    result\n",
    "# 0  20.0  1    20.0\n",
    "# 1  22.0  0    0\n",
    "# 2  30.0  1    0\n",
    "# 3  29.1  1    0\n",
    "# 4  20.0  0    0\n",
    "\n",
    "import pandas as pd\n",
    "import numpy as np\n",
    "\n",
    "df = pd.DataFrame({\n",
    "        \"nums\": [20, 22, 30, 29.1, 20],\n",
    "        \"b\": [20, 22, 30, 29.1, 20],\n",
    "    })\n",
    "\n",
    "for i in range(10):\n",
    "    df = pd.concat([df, df], ignore_index=True)\n",
    "\n",
    "print(df)\n",
    "\n",
    "def some_calc_func(prev_result, prev_num, current_b):\n",
    "    if current_b == 1:\n",
    "        return prev_result * prev_num / 2\n",
    "    else:\n",
    "        return prev_num + 17"
   ]
  },
  {
   "cell_type": "code",
   "execution_count": 22,
   "metadata": {},
   "outputs": [
    {
     "name": "stdout",
     "output_type": "stream",
     "text": [
      "228 ms ± 5.18 ms per loop (mean ± std. dev. of 7 runs, 1 loop each)\n"
     ]
    }
   ],
   "source": [
    "%%timeit\n",
    "for index, row in df.iterrows():\n",
    "        pass"
   ]
  },
  {
   "cell_type": "code",
   "execution_count": 23,
   "metadata": {},
   "outputs": [
    {
     "name": "stdout",
     "output_type": "stream",
     "text": [
      "4.54 ms ± 88.5 µs per loop (mean ± std. dev. of 7 runs, 100 loops each)\n"
     ]
    }
   ],
   "source": [
    "%%timeit\n",
    "for row in df.itertuples():\n",
    "    pass"
   ]
  },
  {
   "cell_type": "code",
   "execution_count": 27,
   "metadata": {},
   "outputs": [
    {
     "name": "stdout",
     "output_type": "stream",
     "text": [
      "3.72 ms ± 30.1 µs per loop (mean ± std. dev. of 7 runs, 100 loops each)\n"
     ]
    }
   ],
   "source": [
    "%%timeit\n",
    "for prev_num, curren_b in zip(df['nums'], df.loc[1:, 'b'],df['nums'], df.loc[1:, 'b'],df['nums'], df.loc[1:, 'b'],df['nums'], df.loc[1:, 'b']):\n",
    "    pass"
   ]
  },
  {
   "cell_type": "code",
   "execution_count": 8,
   "metadata": {},
   "outputs": [
    {
     "name": "stdout",
     "output_type": "stream",
     "text": [
      "1.5 s ± 61.2 ms per loop (mean ± std. dev. of 7 runs, 1 loop each)\n"
     ]
    }
   ],
   "source": [
    "%%timeit\n",
    "for i in range(1, len(df.index)):\n",
    "    row = df.index[i]\n",
    "    new_row = df.index[i - 1]  # get index of previous row for \"nums\" and \"result\"\n",
    "    df.loc[row, 'result'] = some_calc_func(prev_result=df.loc[new_row, 'result'], prev_num=df.loc[new_row, 'nums'], \\\n",
    "                             current_b=df.loc[row, 'b'])"
   ]
  },
  {
   "cell_type": "code",
   "execution_count": null,
   "metadata": {},
   "outputs": [],
   "source": []
  }
 ],
 "metadata": {
  "kernelspec": {
   "display_name": "Python 3",
   "language": "python",
   "name": "python3"
  },
  "language_info": {
   "codemirror_mode": {
    "name": "ipython",
    "version": 3
   },
   "file_extension": ".py",
   "mimetype": "text/x-python",
   "name": "python",
   "nbconvert_exporter": "python",
   "pygments_lexer": "ipython3",
   "version": "3.7.1"
  },
  "toc": {
   "base_numbering": 1,
   "nav_menu": {},
   "number_sections": true,
   "sideBar": true,
   "skip_h1_title": false,
   "title_cell": "Table of Contents",
   "title_sidebar": "Contents",
   "toc_cell": false,
   "toc_position": {},
   "toc_section_display": true,
   "toc_window_display": false
  }
 },
 "nbformat": 4,
 "nbformat_minor": 4
}
